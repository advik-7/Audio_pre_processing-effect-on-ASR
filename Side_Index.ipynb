{
  "nbformat": 4,
  "nbformat_minor": 0,
  "metadata": {
    "colab": {
      "provenance": [],
      "include_colab_link": true
    },
    "kernelspec": {
      "name": "python3",
      "display_name": "Python 3"
    },
    "language_info": {
      "name": "python"
    }
  },
  "cells": [
    {
      "cell_type": "markdown",
      "metadata": {
        "id": "view-in-github",
        "colab_type": "text"
      },
      "source": [
        "<a href=\"https://colab.research.google.com/github/advik-7/Audio_pre_processing-effect-on-ASR/blob/main/Side_Index.ipynb\" target=\"_parent\"><img src=\"https://colab.research.google.com/assets/colab-badge.svg\" alt=\"Open In Colab\"/></a>"
      ]
    },
    {
      "cell_type": "code",
      "source": [
        "!pip install sentence-transformers faiss-gpu openai"
      ],
      "metadata": {
        "colab": {
          "base_uri": "https://localhost:8080/",
          "height": 1000
        },
        "collapsed": true,
        "id": "kjI5Dc2O7AnG",
        "outputId": "644c38d8-f718-424b-e3d0-c48f1c131f19"
      },
      "execution_count": 29,
      "outputs": [
        {
          "output_type": "stream",
          "name": "stdout",
          "text": [
            "Requirement already satisfied: sentence-transformers in /usr/local/lib/python3.10/dist-packages (3.2.1)\n",
            "Requirement already satisfied: faiss-gpu in /usr/local/lib/python3.10/dist-packages (1.7.2)\n",
            "Requirement already satisfied: openai in /usr/local/lib/python3.10/dist-packages (1.54.4)\n",
            "Requirement already satisfied: transformers<5.0.0,>=4.41.0 in /usr/local/lib/python3.10/dist-packages (from sentence-transformers) (4.46.2)\n",
            "Requirement already satisfied: tqdm in /usr/local/lib/python3.10/dist-packages (from sentence-transformers) (4.66.6)\n",
            "Requirement already satisfied: torch>=1.11.0 in /usr/local/lib/python3.10/dist-packages (from sentence-transformers) (2.5.1+cu121)\n",
            "Requirement already satisfied: scikit-learn in /usr/local/lib/python3.10/dist-packages (from sentence-transformers) (1.5.2)\n",
            "Requirement already satisfied: scipy in /usr/local/lib/python3.10/dist-packages (from sentence-transformers) (1.13.1)\n",
            "Requirement already satisfied: huggingface-hub>=0.20.0 in /usr/local/lib/python3.10/dist-packages (from sentence-transformers) (0.26.2)\n",
            "Requirement already satisfied: Pillow in /usr/local/lib/python3.10/dist-packages (from sentence-transformers) (11.0.0)\n",
            "Requirement already satisfied: anyio<5,>=3.5.0 in /usr/local/lib/python3.10/dist-packages (from openai) (3.7.1)\n",
            "Requirement already satisfied: distro<2,>=1.7.0 in /usr/local/lib/python3.10/dist-packages (from openai) (1.9.0)\n",
            "Collecting httpx<1,>=0.23.0 (from openai)\n",
            "  Downloading httpx-0.27.2-py3-none-any.whl.metadata (7.1 kB)\n",
            "Requirement already satisfied: jiter<1,>=0.4.0 in /usr/local/lib/python3.10/dist-packages (from openai) (0.7.1)\n",
            "Requirement already satisfied: pydantic<3,>=1.9.0 in /usr/local/lib/python3.10/dist-packages (from openai) (2.9.2)\n",
            "Requirement already satisfied: sniffio in /usr/local/lib/python3.10/dist-packages (from openai) (1.3.1)\n",
            "Requirement already satisfied: typing-extensions<5,>=4.11 in /usr/local/lib/python3.10/dist-packages (from openai) (4.12.2)\n",
            "Requirement already satisfied: idna>=2.8 in /usr/local/lib/python3.10/dist-packages (from anyio<5,>=3.5.0->openai) (2.10)\n",
            "Requirement already satisfied: exceptiongroup in /usr/local/lib/python3.10/dist-packages (from anyio<5,>=3.5.0->openai) (1.2.2)\n",
            "Requirement already satisfied: certifi in /usr/local/lib/python3.10/dist-packages (from httpx<1,>=0.23.0->openai) (2024.8.30)\n",
            "Collecting httpcore==1.* (from httpx<1,>=0.23.0->openai)\n",
            "  Downloading httpcore-1.0.7-py3-none-any.whl.metadata (21 kB)\n",
            "Collecting h11<0.15,>=0.13 (from httpcore==1.*->httpx<1,>=0.23.0->openai)\n",
            "  Downloading h11-0.14.0-py3-none-any.whl.metadata (8.2 kB)\n",
            "Requirement already satisfied: filelock in /usr/local/lib/python3.10/dist-packages (from huggingface-hub>=0.20.0->sentence-transformers) (3.16.1)\n",
            "Requirement already satisfied: fsspec>=2023.5.0 in /usr/local/lib/python3.10/dist-packages (from huggingface-hub>=0.20.0->sentence-transformers) (2024.10.0)\n",
            "Requirement already satisfied: packaging>=20.9 in /usr/local/lib/python3.10/dist-packages (from huggingface-hub>=0.20.0->sentence-transformers) (24.2)\n",
            "Requirement already satisfied: pyyaml>=5.1 in /usr/local/lib/python3.10/dist-packages (from huggingface-hub>=0.20.0->sentence-transformers) (6.0.2)\n",
            "Requirement already satisfied: requests in /usr/local/lib/python3.10/dist-packages (from huggingface-hub>=0.20.0->sentence-transformers) (2.32.3)\n",
            "Requirement already satisfied: annotated-types>=0.6.0 in /usr/local/lib/python3.10/dist-packages (from pydantic<3,>=1.9.0->openai) (0.7.0)\n",
            "Requirement already satisfied: pydantic-core==2.23.4 in /usr/local/lib/python3.10/dist-packages (from pydantic<3,>=1.9.0->openai) (2.23.4)\n",
            "Requirement already satisfied: networkx in /usr/local/lib/python3.10/dist-packages (from torch>=1.11.0->sentence-transformers) (3.4.2)\n",
            "Requirement already satisfied: jinja2 in /usr/local/lib/python3.10/dist-packages (from torch>=1.11.0->sentence-transformers) (3.1.4)\n",
            "Requirement already satisfied: sympy==1.13.1 in /usr/local/lib/python3.10/dist-packages (from torch>=1.11.0->sentence-transformers) (1.13.1)\n",
            "Requirement already satisfied: mpmath<1.4,>=1.1.0 in /usr/local/lib/python3.10/dist-packages (from sympy==1.13.1->torch>=1.11.0->sentence-transformers) (1.3.0)\n",
            "Requirement already satisfied: numpy>=1.17 in /usr/local/lib/python3.10/dist-packages (from transformers<5.0.0,>=4.41.0->sentence-transformers) (1.26.4)\n",
            "Requirement already satisfied: regex!=2019.12.17 in /usr/local/lib/python3.10/dist-packages (from transformers<5.0.0,>=4.41.0->sentence-transformers) (2024.9.11)\n",
            "Requirement already satisfied: safetensors>=0.4.1 in /usr/local/lib/python3.10/dist-packages (from transformers<5.0.0,>=4.41.0->sentence-transformers) (0.4.5)\n",
            "Requirement already satisfied: tokenizers<0.21,>=0.20 in /usr/local/lib/python3.10/dist-packages (from transformers<5.0.0,>=4.41.0->sentence-transformers) (0.20.3)\n",
            "Requirement already satisfied: joblib>=1.2.0 in /usr/local/lib/python3.10/dist-packages (from scikit-learn->sentence-transformers) (1.4.2)\n",
            "Requirement already satisfied: threadpoolctl>=3.1.0 in /usr/local/lib/python3.10/dist-packages (from scikit-learn->sentence-transformers) (3.5.0)\n",
            "Requirement already satisfied: MarkupSafe>=2.0 in /usr/local/lib/python3.10/dist-packages (from jinja2->torch>=1.11.0->sentence-transformers) (3.0.2)\n",
            "Requirement already satisfied: charset-normalizer<4,>=2 in /usr/local/lib/python3.10/dist-packages (from requests->huggingface-hub>=0.20.0->sentence-transformers) (3.4.0)\n",
            "Requirement already satisfied: urllib3<3,>=1.21.1 in /usr/local/lib/python3.10/dist-packages (from requests->huggingface-hub>=0.20.0->sentence-transformers) (2.2.3)\n",
            "Downloading httpx-0.27.2-py3-none-any.whl (76 kB)\n",
            "\u001b[2K   \u001b[90m━━━━━━━━━━━━━━━━━━━━━━━━━━━━━━━━━━━━━━━━\u001b[0m \u001b[32m76.4/76.4 kB\u001b[0m \u001b[31m2.8 MB/s\u001b[0m eta \u001b[36m0:00:00\u001b[0m\n",
            "\u001b[?25hDownloading httpcore-1.0.7-py3-none-any.whl (78 kB)\n",
            "\u001b[2K   \u001b[90m━━━━━━━━━━━━━━━━━━━━━━━━━━━━━━━━━━━━━━━━\u001b[0m \u001b[32m78.6/78.6 kB\u001b[0m \u001b[31m4.3 MB/s\u001b[0m eta \u001b[36m0:00:00\u001b[0m\n",
            "\u001b[?25hDownloading h11-0.14.0-py3-none-any.whl (58 kB)\n",
            "\u001b[2K   \u001b[90m━━━━━━━━━━━━━━━━━━━━━━━━━━━━━━━━━━━━━━━━\u001b[0m \u001b[32m58.3/58.3 kB\u001b[0m \u001b[31m3.8 MB/s\u001b[0m eta \u001b[36m0:00:00\u001b[0m\n",
            "\u001b[?25hInstalling collected packages: h11, httpcore, httpx\n",
            "  Attempting uninstall: h11\n",
            "    Found existing installation: h11 0.9.0\n",
            "    Uninstalling h11-0.9.0:\n",
            "      Successfully uninstalled h11-0.9.0\n",
            "  Attempting uninstall: httpcore\n",
            "    Found existing installation: httpcore 0.9.1\n",
            "    Uninstalling httpcore-0.9.1:\n",
            "      Successfully uninstalled httpcore-0.9.1\n",
            "  Attempting uninstall: httpx\n",
            "    Found existing installation: httpx 0.13.3\n",
            "    Uninstalling httpx-0.13.3:\n",
            "      Successfully uninstalled httpx-0.13.3\n",
            "\u001b[31mERROR: pip's dependency resolver does not currently take into account all the packages that are installed. This behaviour is the source of the following dependency conflicts.\n",
            "googletrans 3.1.0a0 requires httpx==0.13.3, but you have httpx 0.27.2 which is incompatible.\u001b[0m\u001b[31m\n",
            "\u001b[0mSuccessfully installed h11-0.14.0 httpcore-1.0.7 httpx-0.27.2\n"
          ]
        },
        {
          "output_type": "display_data",
          "data": {
            "application/vnd.colab-display-data+json": {
              "pip_warning": {
                "packages": [
                  "h11"
                ]
              },
              "id": "1aac65e76e0f40aca09eb1b7a0fbe421"
            }
          },
          "metadata": {}
        }
      ]
    },
    {
      "cell_type": "code",
      "source": [
        "# from transformers import AutoTokenizer, AutoModelForSeq2SeqLM\n",
        "from sentence_transformers import SentenceTransformer"
      ],
      "metadata": {
        "id": "xOxw7Sz8oTDM"
      },
      "execution_count": 30,
      "outputs": []
    },
    {
      "cell_type": "code",
      "source": [
        "def load_text_file(file_path):\n",
        "    with open(file_path, 'r', encoding='utf-8') as file:\n",
        "        paragraphs = [line.strip() for line in file if line.strip()]  # Skip blank lines\n",
        "    return paragraphs"
      ],
      "metadata": {
        "id": "yqTRPbrx-nLi"
      },
      "execution_count": 31,
      "outputs": []
    },
    {
      "cell_type": "code",
      "source": [
        "# Load the paragraphs from your text file\n",
        "file_path = \"./complete_text.txt\"\n",
        "text_corpus = load_text_file(file_path)"
      ],
      "metadata": {
        "id": "Yr0yYlne-rVd"
      },
      "execution_count": 32,
      "outputs": []
    },
    {
      "cell_type": "code",
      "source": [
        "# Optionally split long paragraphs into smaller chunks\n",
        "def split_into_chunks(paragraphs, chunk_size=200):\n",
        "    chunks = []\n",
        "    for paragraph in paragraphs:\n",
        "        words = paragraph.split()\n",
        "        chunks.extend([\" \".join(words[i:i+chunk_size]) for i in range(0, len(words), chunk_size)])\n",
        "    return chunks\n",
        "\n",
        "chunks = split_into_chunks(text_corpus)"
      ],
      "metadata": {
        "id": "ua24uD0JooY9"
      },
      "execution_count": 33,
      "outputs": []
    },
    {
      "cell_type": "code",
      "source": [
        "print(f\"Total chunks: {len(chunks)}\")"
      ],
      "metadata": {
        "colab": {
          "base_uri": "https://localhost:8080/"
        },
        "id": "TpliIbCD_WLc",
        "outputId": "2876d225-11de-47d2-b834-53bef3854e56"
      },
      "execution_count": 34,
      "outputs": [
        {
          "output_type": "stream",
          "name": "stdout",
          "text": [
            "Total chunks: 254\n"
          ]
        }
      ]
    },
    {
      "cell_type": "code",
      "source": [
        "import faiss\n",
        "from sentence_transformers import SentenceTransformer\n",
        "import numpy as np\n",
        "\n",
        "model = SentenceTransformer('all-MiniLM-L6-v2')\n",
        "\n",
        "embeddings = model.encode(chunks)\n",
        "index = faiss.IndexFlatL2(embeddings.shape[1])\n",
        "index.add(embeddings)\n",
        "faiss_index_path = \"/content/faiss_index_chunks.bin\"\n",
        "faiss.write_index(index, faiss_index_path)\n",
        "\n",
        "print(f\"FAISS index saved at: {faiss_index_path}\")\n",
        "\n",
        "chunks_file_path = \"/content/faiss_index_chunks.txt\"\n",
        "with open(chunks_file_path, 'w', encoding='utf-8') as file:\n",
        "    for chunk in chunks:\n",
        "        file.write(chunk + \"\\n\")\n",
        "\n",
        "print(f\"Chunks saved at: {chunks_file_path}\")\n",
        "\n",
        "metadata_file_path = \"/content/faiss_index_metadata.txt\"\n",
        "with open(metadata_file_path, 'w', encoding='utf-8') as meta_file:\n",
        "    for idx, chunk in enumerate(chunks):\n",
        "        meta_file.write(f\"Vector Index: {idx} -> Chunk: {chunk}\\n\")\n",
        "\n",
        "print(f\"Metadata saved at: {metadata_file_path}\")\n"
      ],
      "metadata": {
        "colab": {
          "base_uri": "https://localhost:8080/"
        },
        "id": "k4F4ztOX-TiY",
        "outputId": "51ab38c4-03f7-43bd-e772-26f945c60dcb"
      },
      "execution_count": 35,
      "outputs": [
        {
          "output_type": "stream",
          "name": "stdout",
          "text": [
            "FAISS index saved at: /content/faiss_index_chunks.bin\n",
            "Chunks saved at: /content/faiss_index_chunks.txt\n",
            "Metadata saved at: /content/faiss_index_metadata.txt\n"
          ]
        }
      ]
    },
    {
      "cell_type": "code",
      "source": [
        "def retrieve_relevant_chunks(query, top_k=5):\n",
        "    query_embedding = model.encode([query])\n",
        "    distances, indices = index.search(query_embedding, top_k)\n",
        "    return [chunks[i] for i in indices[0]]\n",
        "\n",
        "# Example query\n",
        "query = \"what are the problems faced by farmers\"\n",
        "relevant_chunks = retrieve_relevant_chunks(query)\n",
        "\n",
        "print(\"Relevant Chunks:\", relevant_chunks)\n"
      ],
      "metadata": {
        "colab": {
          "base_uri": "https://localhost:8080/"
        },
        "id": "5Y1KjBUk-Vlh",
        "outputId": "eddc801b-4205-4dee-91b7-19d2d9655680"
      },
      "execution_count": 36,
      "outputs": [
        {
          "output_type": "stream",
          "name": "stdout",
          "text": [
            "Relevant Chunks: ['Farmers are under significant financial pressure due to increasing costs of agricultural tools, pesticides, and fertilizers. The economic burden, coupled with low returns from the market, drives many farmers into debt. The government is urged to support them, especially in terms of education and access to more sustainable farming practices.', 'Challenges such as drought, the need for more fertilizers, and the struggle for proper compensation are mentioned. Despite these challenges, many speakers remain optimistic and encourage other farmers to join the movement.', 'It emphasizes the role of society and the government in supporting the farmers. Farmers are seen as the backbone of agriculture, but the entire system, including the education system, policy, and market access, must be improved to ensure they are not left behind in terms of knowledge or financial stability.', 'Farmers are experiencing financial hardship due to the theft of their sandalwood. Despite years of hard work, the lack of support and market access has left them struggling.', 'A significant issue for farmers is their lack of market knowledge. They are unaware of where to sell their sandalwood, which results in thieves stealing the harvested trees, causing a substantial loss for the farmers.']\n"
          ]
        }
      ]
    },
    {
      "cell_type": "code",
      "source": [
        "import google.generativeai as genai"
      ],
      "metadata": {
        "id": "Lkj1rGBg_puy"
      },
      "execution_count": 37,
      "outputs": []
    },
    {
      "cell_type": "code",
      "source": [
        "from google.colab import userdata"
      ],
      "metadata": {
        "id": "bf6xFty8A1FO"
      },
      "execution_count": 38,
      "outputs": []
    },
    {
      "cell_type": "code",
      "source": [
        "genai.configure(api_key=\"\")\n",
        "model = genai.GenerativeModel(\"gemini-1.5-flash\")\n",
        "\n",
        "def query_llm(prompt, context):\n",
        "    \"\"\"\n",
        "    Modify the prompt for the LLM to act as an AI agent for Kannada farmers' knowledge.\n",
        "    \"\"\"\n",
        "    complete_prompt = (\n",
        "        f\"{context}\\n\\n\"\n",
        "        f\"ನೀವು ಕರ್ನಾಟಕದ ರೈತರಿಗೆ ಕೃಷಿ ಬಗ್ಗೆ ಜ್ಞಾನ ಹರಡುವ ಸಲಹೆಗಾರರಾಗಿ ಕಾರ್ಯನಿರ್ವಹಿಸುತ್ತಿದ್ದೀರಿ. \"\n",
        "        f\"ನೀವು ರೈತರನ್ನು ಕಷ್ಟಕರ ಪರಿಸ್ಥಿತಿಗಳಲ್ಲಿ ಮಾರ್ಗದರ್ಶನ ನೀಡುತ್ತೀರಿ ಮತ್ತು ಸಂಕ್ಷಿಪ್ತವಾಗಿ, ಸರಳವಾಗಿ, \"\n",
        "        f\"ಅವರ ಸಮಸ್ಯೆಗಳನ್ನು ಸुलಭವಾಗಿ ವಿವರಿಸಿ ಪರಿಹಾರಗಳನ್ನು ನೀಡುತ್ತೀರಿ. \"\n",
        "        f\"ನೀವು ಹೇಳುವ ಪ್ರತಿಯೊಂದು ಉತ್ತರವೂ ಉಪಯುಕ್ತ, ಪ್ರಾಯೋಗಿಕ ಮತ್ತು ರೈತರ ಸಹಾಯಕ್ಕಾಗಿ ಮಾತ್ರ ಆಗಿರುತ್ತದೆ.\"\n",
        "        f\"\\n\\n\"\n",
        "        f\"ಪ್ರಶ್ನೆ: {prompt}\\n\"\n",
        "        f\"ಉತ್ತರ: \"\n",
        "        f\"ನೀವು ರೈತರಿಗೆ ಸಹಾಯ ಮಾಡುವಂತೆ, ಸಿದ್ಧಾಂತಗಳನ್ನು ಸರಳವಾಗಿ ಹಾಗೂ ಗಮ್ಯವಾಗಿಯೂ ವಿವರಿಸಿ, \"\n",
        "        f\"ಅವರ ಸಮಸ್ಯೆಗಳಿಗೆ ಪರಿಹಾರವನ್ನು ಕಠಿಣವಾಗಿ, ಆದರೆ ಶ್ರದ್ಧೆಯಿಂದ ಪ್ರಸ್ತುತಪಡಿಸಿ.\"\n",
        "    )\n",
        "    response = model.generate_content([complete_prompt])\n",
        "    return response.text\n",
        "\n"
      ],
      "metadata": {
        "id": "zvA8YDjNAN4x"
      },
      "execution_count": 46,
      "outputs": []
    },
    {
      "cell_type": "code",
      "source": [
        "!pip install googletrans==3.1.0a0"
      ],
      "metadata": {
        "colab": {
          "base_uri": "https://localhost:8080/",
          "height": 758
        },
        "collapsed": true,
        "id": "D2TLwS7CBgj-",
        "outputId": "97ae3a03-79f6-4e21-fde2-806d34c72de3"
      },
      "execution_count": 40,
      "outputs": [
        {
          "output_type": "stream",
          "name": "stdout",
          "text": [
            "Requirement already satisfied: googletrans==3.1.0a0 in /usr/local/lib/python3.10/dist-packages (3.1.0a0)\n",
            "Collecting httpx==0.13.3 (from googletrans==3.1.0a0)\n",
            "  Using cached httpx-0.13.3-py3-none-any.whl.metadata (25 kB)\n",
            "Requirement already satisfied: certifi in /usr/local/lib/python3.10/dist-packages (from httpx==0.13.3->googletrans==3.1.0a0) (2024.8.30)\n",
            "Requirement already satisfied: hstspreload in /usr/local/lib/python3.10/dist-packages (from httpx==0.13.3->googletrans==3.1.0a0) (2024.11.1)\n",
            "Requirement already satisfied: sniffio in /usr/local/lib/python3.10/dist-packages (from httpx==0.13.3->googletrans==3.1.0a0) (1.3.1)\n",
            "Requirement already satisfied: chardet==3.* in /usr/local/lib/python3.10/dist-packages (from httpx==0.13.3->googletrans==3.1.0a0) (3.0.4)\n",
            "Requirement already satisfied: idna==2.* in /usr/local/lib/python3.10/dist-packages (from httpx==0.13.3->googletrans==3.1.0a0) (2.10)\n",
            "Requirement already satisfied: rfc3986<2,>=1.3 in /usr/local/lib/python3.10/dist-packages (from httpx==0.13.3->googletrans==3.1.0a0) (1.5.0)\n",
            "Collecting httpcore==0.9.* (from httpx==0.13.3->googletrans==3.1.0a0)\n",
            "  Using cached httpcore-0.9.1-py3-none-any.whl.metadata (4.6 kB)\n",
            "Collecting h11<0.10,>=0.8 (from httpcore==0.9.*->httpx==0.13.3->googletrans==3.1.0a0)\n",
            "  Using cached h11-0.9.0-py2.py3-none-any.whl.metadata (8.1 kB)\n",
            "Requirement already satisfied: h2==3.* in /usr/local/lib/python3.10/dist-packages (from httpcore==0.9.*->httpx==0.13.3->googletrans==3.1.0a0) (3.2.0)\n",
            "Requirement already satisfied: hyperframe<6,>=5.2.0 in /usr/local/lib/python3.10/dist-packages (from h2==3.*->httpcore==0.9.*->httpx==0.13.3->googletrans==3.1.0a0) (5.2.0)\n",
            "Requirement already satisfied: hpack<4,>=3.0 in /usr/local/lib/python3.10/dist-packages (from h2==3.*->httpcore==0.9.*->httpx==0.13.3->googletrans==3.1.0a0) (3.0.0)\n",
            "Using cached httpx-0.13.3-py3-none-any.whl (55 kB)\n",
            "Using cached httpcore-0.9.1-py3-none-any.whl (42 kB)\n",
            "Using cached h11-0.9.0-py2.py3-none-any.whl (53 kB)\n",
            "Installing collected packages: h11, httpcore, httpx\n",
            "  Attempting uninstall: h11\n",
            "    Found existing installation: h11 0.14.0\n",
            "    Uninstalling h11-0.14.0:\n",
            "      Successfully uninstalled h11-0.14.0\n",
            "  Attempting uninstall: httpcore\n",
            "    Found existing installation: httpcore 1.0.7\n",
            "    Uninstalling httpcore-1.0.7:\n",
            "      Successfully uninstalled httpcore-1.0.7\n",
            "  Attempting uninstall: httpx\n",
            "    Found existing installation: httpx 0.27.2\n",
            "    Uninstalling httpx-0.27.2:\n",
            "      Successfully uninstalled httpx-0.27.2\n",
            "\u001b[31mERROR: pip's dependency resolver does not currently take into account all the packages that are installed. This behaviour is the source of the following dependency conflicts.\n",
            "langsmith 0.1.142 requires httpx<1,>=0.23.0, but you have httpx 0.13.3 which is incompatible.\n",
            "openai 1.54.4 requires httpx<1,>=0.23.0, but you have httpx 0.13.3 which is incompatible.\u001b[0m\u001b[31m\n",
            "\u001b[0mSuccessfully installed h11-0.9.0 httpcore-0.9.1 httpx-0.13.3\n"
          ]
        },
        {
          "output_type": "display_data",
          "data": {
            "application/vnd.colab-display-data+json": {
              "pip_warning": {
                "packages": [
                  "h11",
                  "httpcore",
                  "httpx"
                ]
              },
              "id": "250696a75dc644808d2346c19f8e9f7b"
            }
          },
          "metadata": {}
        }
      ]
    },
    {
      "cell_type": "code",
      "source": [
        "from googletrans import Translator"
      ],
      "metadata": {
        "id": "neb6_o2PBeLk"
      },
      "execution_count": 41,
      "outputs": []
    },
    {
      "cell_type": "code",
      "source": [
        "translator = Translator()\n",
        "query_kn = \"ರೈತರು ಎದುರಿಸುತ್ತಿರುವ ಸಮಸ್ಯೆಗಳೇನು\"\n",
        "query_en = translator.translate(query_kn, src=\"kn\", dest=\"en\")"
      ],
      "metadata": {
        "id": "hemuhptjBqmH"
      },
      "execution_count": 42,
      "outputs": []
    },
    {
      "cell_type": "code",
      "source": [
        "context = \"\\n\".join(relevant_chunks)\n",
        "prompt = query_kn\n",
        "answer = query_llm(prompt, context)\n",
        "\n",
        "print(\"Answer:\", answer)"
      ],
      "metadata": {
        "colab": {
          "base_uri": "https://localhost:8080/",
          "height": 783
        },
        "id": "WUWHMK69AxJX",
        "outputId": "7f8ffbb6-85d7-4445-d371-61538c854ede"
      },
      "execution_count": 47,
      "outputs": [
        {
          "output_type": "stream",
          "name": "stdout",
          "text": [
            "Answer: ನಮಸ್ಕಾರ ರೈತ ಬಂಧುಗಳೇ,\n",
            "\n",
            "ನಾನು ನಿಮ್ಮ ಜೊತೆ ಕೆಲಸ ಮಾಡಲು ಬಂದಿದ್ದೇನೆ. ನೀವು ಎದುರಿಸುತ್ತಿರುವ ಸಮಸ್ಯೆಗಳು ನನಗೆ ತಿಳಿದಿವೆ.  ಅವುಗಳನ್ನು ಸರಳವಾಗಿ ಹೇಳುವುದಾದರೆ:\n",
            "\n",
            "**1. ಹೆಚ್ಚುತ್ತಿರುವ ವೆಚ್ಚಗಳು:**  ಕೃಷಿ ಉಪಕರಣಗಳು, ರಸಗೊಬ್ಬರ, ಮತ್ತು ಕೀಟನಾಶಕಗಳ ಬೆಲೆಗಳು ಹೆಚ್ಚಾಗುತ್ತಿವೆ.  ಇದರಿಂದ ನಿಮ್ಮ ಲಾಭ ಕಡಿಮೆಯಾಗುತ್ತಿದೆ.\n",
            "\n",
            "**ಪರಿಹಾರ:**\n",
            "\n",
            "* **ಸಾವಯವ ಕೃಷಿ:** ರಾಸಾಯನಿಕ ರಸಗೊಬ್ಬರ ಮತ್ತು ಕೀಟನಾಶಕಗಳ ಬಳಕೆ ಕಡಿಮೆ ಮಾಡಿ, ಸಾವಯವ ವಿಧಾನಗಳನ್ನು ಅಳವಡಿಸಿಕೊಳ್ಳಿ. ಇದರಿಂದ ದೀರ್ಘಕಾಲದಲ್ಲಿ ವೆಚ್ಚ ಕಡಿಮೆಯಾಗುತ್ತದೆ ಮತ್ತು ಉತ್ಪನ್ನದ ಗುಣಮಟ್ಟ ಹೆಚ್ಚಾಗುತ್ತದೆ.  ಸರ್ಕಾರದಿಂದ ಸಾವಯವ ಕೃಷಿಗೆ ಪ್ರೋತ್ಸಾಹ ಯೋಜನೆಗಳಿವೆ, ಅವುಗಳ ಬಗ್ಗೆ ಮಾಹಿತಿ ಪಡೆಯಿರಿ.\n",
            "* **ಸಹಕಾರಿ ಸಂಘಗಳು:** ಇತರ ರೈತರೊಂದಿಗೆ ಸೇರಿ ಸಹಕಾರಿ ಸಂಘಗಳನ್ನು ರಚಿಸಿ. ಇದರಿಂದ ಉಪಕರಣಗಳು ಮತ್ತು ಇನ್ಪುಟ್ಸ್ ಅನ್ನು ಒಟ್ಟಾಗಿ ಖರೀದಿಸುವುದರಿಂದ ಬೆಲೆ ಕಡಿಮೆಯಾಗುತ್ತದೆ.\n",
            "\n",
            "\n",
            "**2. ಕಡಿಮೆ ಮಾರುಕಟ್ಟೆ ಬೆಲೆ:** ನಿಮ್ಮ ಉತ್ಪನ್ನಗಳಿಗೆ ಸರಿಯಾದ ಬೆಲೆ ಸಿಗುತ್ತಿಲ್ಲ.\n",
            "\n",
            "**ಪರಿಹಾರ:**\n",
            "\n",
            "* **ಮಾರುಕಟ್ಟೆ ಜ್ಞಾನ:**  ನಿಮ್ಮ ಉತ್ಪನ್ನಗಳಿಗೆ ಉತ್ತಮ ಬೆಲೆ ಸಿಗುವ ಮಾರುಕಟ್ಟೆಗಳನ್ನು ಗುರುತಿಸಿ.  ಸಂಬಂಧಿತ ಮಾಹಿತಿ ಪಡೆಯಲು ಸರ್ಕಾರದ ಕೃಷಿ ಇಲಾಖೆ ಅಥವಾ ಸ್ಥಳೀಯ ಮಾರುಕಟ್ಟೆ ಸಮಿತಿಗಳನ್ನು ಸಂಪರ್ಕಿಸಿ.\n",
            "* **ಮೌಲ್ಯವರ್ಧನೆ:** ನಿಮ್ಮ ಉತ್ಪನ್ನಗಳನ್ನು ಮೌಲ್ಯವರ್ಧನೆ ಮಾಡಿ. ಉದಾಹರಣೆಗೆ, ಹಣ್ಣುಗಳನ್ನು ಜ್ಯೂಸ್ ಅಥವಾ ಜಾಮ್ ಮಾಡಿ ಮಾರಿ. ಇದರಿಂದ ಹೆಚ್ಚು ಲಾಭ ಗಳಿಸಬಹುದು.\n",
            "* **ಸಂಘಟಿತ ಮಾರಾಟ:** ಸಹಕಾರಿ ಸಂಘಗಳ ಮೂಲಕ ಒಟ್ಟಾಗಿ ಉತ್ಪನ್ನಗಳನ್ನು ಮಾರುವುದರಿಂದ ಉತ್ತಮ ಬೆಲೆ ಮತ್ತು ಉತ್ತಮ ಮಾರುಕಟ್ಟೆ ಪ್ರವೇಶ ಸಿಗುತ್ತದೆ.\n",
            "\n",
            "**3. ಸಾಲದ ಸಮಸ್ಯೆ:**  ಕಡಿಮೆ ಆದಾಯದಿಂದಾಗಿ ಸಾಲದ ಸುಳಿಗೆ ಸಿಲುಕಿಕೊಳ್ಳುತ್ತಿದ್ದೀರಿ.\n",
            "\n",
            "**ಪರಿಹಾರ:**\n",
            "\n",
            "* **ಸರ್ಕಾರದ ಸಾಲ ಯೋಜನೆಗಳು:**  ಸರ್ಕಾರದಿಂದ ಕಡಿಮೆ ಬಡ್ಡಿದರದ ಸಾಲ ಯೋಜನೆಗಳ ಬಗ್ಗೆ ಮಾಹಿತಿ ಪಡೆಯಿರಿ.\n",
            "* **ಆರ್ಥಿಕ ನಿರ್ವಹಣೆ:** ನಿಮ್ಮ ವೆಚ್ಚ ಮತ್ತು ಆದಾಯವನ್ನು ಟ್ರ್ಯಾಕ್ ಮಾಡಿ.  ಬೇಕರಿಗಿಂತ ಹೆಚ್ಚು ಸಾಲ ತೆಗೆದುಕೊಳ್ಳಬೇಡಿ.\n",
            "\n",
            "**4. ಸಾಂಡಲ್ ವುಡ್ ಕಳ್ಳತನ:** ಸಾಂಡಲ್ ವುಡ್ ಕಳ್ಳತನದಿಂದ ತೀವ್ರ ನಷ್ಟ ಅನುಭವಿಸುತ್ತಿದ್ದೀರಿ.\n",
            "\n",
            "**ಪರಿಹಾರ:**\n",
            "\n",
            "* **ಭದ್ರತಾ ಕ್ರಮಗಳು:** ನಿಮ್ಮ ತೋಟಗಳನ್ನು ಸೂಕ್ತ ರೀತಿಯಲ್ಲಿ ರಕ್ಷಿಸಿಕೊಳ್ಳಿ.  ಸಿಸಿಟಿವಿ ಕ್ಯಾಮೆರಾಗಳು ಅಳವಡಿಸಿ.  ಸ್ಥಳೀಯ ಅಧಿಕಾರಿಗಳೊಂದಿಗೆ ಸಹಕರಿಸಿ.\n",
            "* **ಬೀಮೆ:** ಸಾಂಡಲ್ ವುಡ್ ತೋಟಗಳಿಗೆ ಬೀಮೆ ಮಾಡಿಸಿಕೊಳ್ಳಿ.\n",
            "\n",
            "**5.  ಜ್ಞಾನದ ಕೊರತೆ:**  ನಿಮಗೆ ಕೃಷಿ ಮತ್ತು ಮಾರುಕಟ್ಟೆ ಬಗ್ಗೆ ಸರಿಯಾದ ಜ್ಞಾನ ಇಲ್ಲ.\n",
            "\n",
            "**ಪರಿಹಾರ:**\n",
            "\n",
            "* **ಕೃಷಿ ಇಲಾಖೆಯ ಸಂಪರ್ಕ:** ಕೃಷಿ ಇಲಾಖೆಯ ಅಧಿಕಾರಿಗಳು ಮತ್ತು ಕೃಷಿ ತಜ್ಞರನ್ನು ಸಂಪರ್ಕಿಸಿ.  ಅವರು ತರಬೇತಿ ಮತ್ತು ಸಲಹೆ ನೀಡುತ್ತಾರೆ.\n",
            "* **ಕೃಷಿ ಕಾರ್ಯಾಗಾರಗಳು:** ಸರ್ಕಾರ ಮತ್ತು ಇತರ ಸಂಸ್ಥೆಗಳು ಆಯೋಜಿಸುವ ಕೃಷಿ ಕಾರ್ಯಾಗಾರಗಳಿಗೆ ಹಾಜರಾಗಿ.\n",
            "\n",
            "ನೀವು ಏಕಾಂಗಿಯಾಗಿಲ್ಲ. ನಾವು ಒಟ್ಟಾಗಿ ಕೆಲಸ ಮಾಡಿದರೆ, ಈ ಸಮಸ್ಯೆಗಳನ್ನು ನಿವಾರಿಸಬಹುದು.  ಧೈರ್ಯವಾಗಿರಿ ಮತ್ತು ನಿಮ್ಮ ಕೃಷಿ ಚಟುವಟಿಕೆಯಲ್ಲಿ ಯಶಸ್ವಿಯಾಗುವಿರಿ ಎಂಬ ವಿಶ್ವಾಸ ನನಗಿದೆ.\n",
            "\n"
          ]
        }
      ]
    },
    {
      "cell_type": "code",
      "source": [],
      "metadata": {
        "id": "HB0ZxkQSMknc"
      },
      "execution_count": null,
      "outputs": []
    }
  ]
}